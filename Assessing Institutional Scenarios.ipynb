{
 "cells": [
  {
   "cell_type": "code",
   "execution_count": 1,
   "id": "e3191758",
   "metadata": {},
   "outputs": [
    {
     "data": {
      "application/javascript": [
       "IPython.OutputArea.prototype._should_scroll = function(lines) { return false; }"
      ],
      "text/plain": [
       "<IPython.core.display.Javascript object>"
      ]
     },
     "metadata": {},
     "output_type": "display_data"
    }
   ],
   "source": [
    "import pandas as pd\n",
    "import matplotlib.pyplot as plt\n",
    "import seaborn as sns\n",
    "import pyam\n",
    "import numpy as np\n",
    "import matplotlib.ticker as mtick"
   ]
  },
  {
   "cell_type": "markdown",
   "id": "5a0dacea",
   "metadata": {},
   "source": [
    "## BP"
   ]
  },
  {
   "cell_type": "markdown",
   "id": "f8c8698f",
   "metadata": {},
   "source": [
    "https://www.bp.com/en/global/corporate/energy-economics/energy-outlook.html"
   ]
  },
  {
   "cell_type": "code",
   "execution_count": 2,
   "id": "b556ebc1",
   "metadata": {},
   "outputs": [
    {
     "data": {
      "text/html": [
       "<div>\n",
       "<style scoped>\n",
       "    .dataframe tbody tr th:only-of-type {\n",
       "        vertical-align: middle;\n",
       "    }\n",
       "\n",
       "    .dataframe tbody tr th {\n",
       "        vertical-align: top;\n",
       "    }\n",
       "\n",
       "    .dataframe thead th {\n",
       "        text-align: right;\n",
       "    }\n",
       "</style>\n",
       "<table border=\"1\" class=\"dataframe\">\n",
       "  <thead>\n",
       "    <tr style=\"text-align: right;\">\n",
       "      <th></th>\n",
       "      <th>2000</th>\n",
       "      <th>2001</th>\n",
       "      <th>2002</th>\n",
       "      <th>2003</th>\n",
       "      <th>2004</th>\n",
       "      <th>2005</th>\n",
       "      <th>2006</th>\n",
       "      <th>2007</th>\n",
       "      <th>2008</th>\n",
       "      <th>2009</th>\n",
       "      <th>...</th>\n",
       "      <th>2015</th>\n",
       "      <th>2016</th>\n",
       "      <th>2017</th>\n",
       "      <th>2018</th>\n",
       "      <th>2025</th>\n",
       "      <th>2030</th>\n",
       "      <th>2035</th>\n",
       "      <th>2040</th>\n",
       "      <th>2045</th>\n",
       "      <th>2050</th>\n",
       "    </tr>\n",
       "    <tr>\n",
       "      <th>Scenarios</th>\n",
       "      <th></th>\n",
       "      <th></th>\n",
       "      <th></th>\n",
       "      <th></th>\n",
       "      <th></th>\n",
       "      <th></th>\n",
       "      <th></th>\n",
       "      <th></th>\n",
       "      <th></th>\n",
       "      <th></th>\n",
       "      <th></th>\n",
       "      <th></th>\n",
       "      <th></th>\n",
       "      <th></th>\n",
       "      <th></th>\n",
       "      <th></th>\n",
       "      <th></th>\n",
       "      <th></th>\n",
       "      <th></th>\n",
       "      <th></th>\n",
       "      <th></th>\n",
       "    </tr>\n",
       "  </thead>\n",
       "  <tbody>\n",
       "    <tr>\n",
       "      <th>Rapid</th>\n",
       "      <td>0.179</td>\n",
       "      <td>0.187</td>\n",
       "      <td>0.193</td>\n",
       "      <td>0.196</td>\n",
       "      <td>0.202</td>\n",
       "      <td>0.205</td>\n",
       "      <td>0.208</td>\n",
       "      <td>0.215</td>\n",
       "      <td>0.218</td>\n",
       "      <td>0.221</td>\n",
       "      <td>...</td>\n",
       "      <td>0.232</td>\n",
       "      <td>0.236</td>\n",
       "      <td>0.233</td>\n",
       "      <td>0.234</td>\n",
       "      <td>0.256</td>\n",
       "      <td>0.257</td>\n",
       "      <td>0.232</td>\n",
       "      <td>0.188</td>\n",
       "      <td>0.144</td>\n",
       "      <td>0.129</td>\n",
       "    </tr>\n",
       "    <tr>\n",
       "      <th>Net Zero</th>\n",
       "      <td>0.179</td>\n",
       "      <td>0.187</td>\n",
       "      <td>0.193</td>\n",
       "      <td>0.196</td>\n",
       "      <td>0.202</td>\n",
       "      <td>0.205</td>\n",
       "      <td>0.208</td>\n",
       "      <td>0.215</td>\n",
       "      <td>0.218</td>\n",
       "      <td>0.221</td>\n",
       "      <td>...</td>\n",
       "      <td>0.232</td>\n",
       "      <td>0.236</td>\n",
       "      <td>0.233</td>\n",
       "      <td>0.234</td>\n",
       "      <td>0.216</td>\n",
       "      <td>0.174</td>\n",
       "      <td>0.103</td>\n",
       "      <td>0.056</td>\n",
       "      <td>0.041</td>\n",
       "      <td>0.045</td>\n",
       "    </tr>\n",
       "    <tr>\n",
       "      <th>Business-as-usual</th>\n",
       "      <td>0.179</td>\n",
       "      <td>0.187</td>\n",
       "      <td>0.193</td>\n",
       "      <td>0.196</td>\n",
       "      <td>0.202</td>\n",
       "      <td>0.205</td>\n",
       "      <td>0.208</td>\n",
       "      <td>0.215</td>\n",
       "      <td>0.218</td>\n",
       "      <td>0.221</td>\n",
       "      <td>...</td>\n",
       "      <td>0.232</td>\n",
       "      <td>0.236</td>\n",
       "      <td>0.233</td>\n",
       "      <td>0.234</td>\n",
       "      <td>0.240</td>\n",
       "      <td>0.241</td>\n",
       "      <td>0.236</td>\n",
       "      <td>0.225</td>\n",
       "      <td>0.214</td>\n",
       "      <td>0.203</td>\n",
       "    </tr>\n",
       "  </tbody>\n",
       "</table>\n",
       "<p>3 rows × 25 columns</p>\n",
       "</div>"
      ],
      "text/plain": [
       "                    2000   2001   2002   2003   2004   2005   2006   2007  \\\n",
       "Scenarios                                                                   \n",
       "Rapid              0.179  0.187  0.193  0.196  0.202  0.205  0.208  0.215   \n",
       "Net Zero           0.179  0.187  0.193  0.196  0.202  0.205  0.208  0.215   \n",
       "Business-as-usual  0.179  0.187  0.193  0.196  0.202  0.205  0.208  0.215   \n",
       "\n",
       "                    2008   2009  ...   2015   2016   2017   2018   2025  \\\n",
       "Scenarios                        ...                                      \n",
       "Rapid              0.218  0.221  ...  0.232  0.236  0.233  0.234  0.256   \n",
       "Net Zero           0.218  0.221  ...  0.232  0.236  0.233  0.234  0.216   \n",
       "Business-as-usual  0.218  0.221  ...  0.232  0.236  0.233  0.234  0.240   \n",
       "\n",
       "                    2030   2035   2040   2045   2050  \n",
       "Scenarios                                             \n",
       "Rapid              0.257  0.232  0.188  0.144  0.129  \n",
       "Net Zero           0.174  0.103  0.056  0.041  0.045  \n",
       "Business-as-usual  0.241  0.236  0.225  0.214  0.203  \n",
       "\n",
       "[3 rows x 25 columns]"
      ]
     },
     "execution_count": 2,
     "metadata": {},
     "output_type": "execute_result"
    }
   ],
   "source": [
    "df = pd.read_excel(\"data/bp-energy-outlook-2020-chart-data-pack.xlsx\",\n",
    "                  sheet_name = \"Gas Share\",\n",
    "                  skiprows =3, index_col = \"Scenarios\")\n",
    "df"
   ]
  },
  {
   "cell_type": "code",
   "execution_count": 3,
   "id": "a5eee7ee",
   "metadata": {},
   "outputs": [
    {
     "data": {
      "image/png": "[encoded data removed]",
      "text/plain": [
       "<Figure size 640x480 with 1 Axes>"
      ]
     },
     "metadata": {},
     "output_type": "display_data"
    }
   ],
   "source": [
    "#fix, ax = plt.subplots()\n",
    "df.T.plot()\n",
    "plt.title(\"Gas share in global power generation \\n BP Energy Outlook 2020\")\n",
    "plt.ylabel(\"Share (0-1\")\n",
    "#ax.yaxis.set_major_formatter(mtick.PercentFormatter())\n",
    "plt.savefig(\"figures/Gas share in global power generation BP Energy Outlook\",\n",
    "           dpi = 300)\n",
    "\n",
    "plt.show()"
   ]
  },
  {
   "cell_type": "markdown",
   "id": "193b99c7",
   "metadata": {},
   "source": [
    "## IEA"
   ]
  },
  {
   "cell_type": "code",
   "execution_count": 4,
   "id": "7770ae5a",
   "metadata": {},
   "outputs": [
    {
     "data": {
      "text/html": [
       "<div>\n",
       "<style scoped>\n",
       "    .dataframe tbody tr th:only-of-type {\n",
       "        vertical-align: middle;\n",
       "    }\n",
       "\n",
       "    .dataframe tbody tr th {\n",
       "        vertical-align: top;\n",
       "    }\n",
       "\n",
       "    .dataframe thead th {\n",
       "        text-align: right;\n",
       "    }\n",
       "</style>\n",
       "<table border=\"1\" class=\"dataframe\">\n",
       "  <thead>\n",
       "    <tr style=\"text-align: right;\">\n",
       "      <th>Fuels</th>\n",
       "      <th>Unabated Natural gas</th>\n",
       "      <th>Natural gas with CCUS</th>\n",
       "      <th>Total generation</th>\n",
       "    </tr>\n",
       "  </thead>\n",
       "  <tbody>\n",
       "    <tr>\n",
       "      <th>2019</th>\n",
       "      <td>6314</td>\n",
       "      <td>0</td>\n",
       "      <td>26922</td>\n",
       "    </tr>\n",
       "    <tr>\n",
       "      <th>2020</th>\n",
       "      <td>6200.0</td>\n",
       "      <td>0.0</td>\n",
       "      <td>26778.0</td>\n",
       "    </tr>\n",
       "    <tr>\n",
       "      <th>2030</th>\n",
       "      <td>6222.0</td>\n",
       "      <td>170.0</td>\n",
       "      <td>37316.0</td>\n",
       "    </tr>\n",
       "    <tr>\n",
       "      <th>2040</th>\n",
       "      <td>626.0</td>\n",
       "      <td>694.0</td>\n",
       "      <td>56553.0</td>\n",
       "    </tr>\n",
       "    <tr>\n",
       "      <th>2050</th>\n",
       "      <td>253.0</td>\n",
       "      <td>669.0</td>\n",
       "      <td>71164.0</td>\n",
       "    </tr>\n",
       "  </tbody>\n",
       "</table>\n",
       "</div>"
      ],
      "text/plain": [
       "Fuels Unabated Natural gas Natural gas with CCUS Total generation\n",
       "2019                  6314                     0            26922\n",
       "2020                6200.0                   0.0          26778.0\n",
       "2030                6222.0                 170.0          37316.0\n",
       "2040                 626.0                 694.0          56553.0\n",
       "2050                 253.0                 669.0          71164.0"
      ]
     },
     "execution_count": 4,
     "metadata": {},
     "output_type": "execute_result"
    }
   ],
   "source": [
    "df = pd.read_excel(\"data/NZE2021_AnnexA.xlsx\",\n",
    "                  sheet_name = \"World_Elec\",\n",
    "                  skiprows=4,\n",
    "                  usecols=[0,1,2,3,4,5], \n",
    "                  index_col = \"Fuels\")\n",
    "df = df.iloc[0:19]\n",
    "\n",
    "#Take a subset of only gas-based generation\n",
    "df = df.loc[[\"Unabated Natural gas\",\"Natural gas with CCUS\", \"Total generation\"]]\n",
    "df=df.T\n",
    "df"
   ]
  },
  {
   "cell_type": "code",
   "execution_count": 5,
   "id": "b0394767",
   "metadata": {},
   "outputs": [
    {
     "data": {
      "text/html": [
       "<div>\n",
       "<style scoped>\n",
       "    .dataframe tbody tr th:only-of-type {\n",
       "        vertical-align: middle;\n",
       "    }\n",
       "\n",
       "    .dataframe tbody tr th {\n",
       "        vertical-align: top;\n",
       "    }\n",
       "\n",
       "    .dataframe thead th {\n",
       "        text-align: right;\n",
       "    }\n",
       "</style>\n",
       "<table border=\"1\" class=\"dataframe\">\n",
       "  <thead>\n",
       "    <tr style=\"text-align: right;\">\n",
       "      <th>Fuels</th>\n",
       "      <th>Unabated Natural gas</th>\n",
       "      <th>Natural gas with CCUS</th>\n",
       "      <th>Total generation</th>\n",
       "      <th>Unabated Natural gas share</th>\n",
       "      <th>Natural gas with CCUS share</th>\n",
       "    </tr>\n",
       "  </thead>\n",
       "  <tbody>\n",
       "    <tr>\n",
       "      <th>2019</th>\n",
       "      <td>6314</td>\n",
       "      <td>0</td>\n",
       "      <td>26922</td>\n",
       "      <td>0.234529</td>\n",
       "      <td>0.0</td>\n",
       "    </tr>\n",
       "    <tr>\n",
       "      <th>2020</th>\n",
       "      <td>6200.0</td>\n",
       "      <td>0.0</td>\n",
       "      <td>26778.0</td>\n",
       "      <td>0.231533</td>\n",
       "      <td>0.0</td>\n",
       "    </tr>\n",
       "    <tr>\n",
       "      <th>2030</th>\n",
       "      <td>6222.0</td>\n",
       "      <td>170.0</td>\n",
       "      <td>37316.0</td>\n",
       "      <td>0.166738</td>\n",
       "      <td>0.004556</td>\n",
       "    </tr>\n",
       "    <tr>\n",
       "      <th>2040</th>\n",
       "      <td>626.0</td>\n",
       "      <td>694.0</td>\n",
       "      <td>56553.0</td>\n",
       "      <td>0.011069</td>\n",
       "      <td>0.012272</td>\n",
       "    </tr>\n",
       "    <tr>\n",
       "      <th>2050</th>\n",
       "      <td>253.0</td>\n",
       "      <td>669.0</td>\n",
       "      <td>71164.0</td>\n",
       "      <td>0.003555</td>\n",
       "      <td>0.009401</td>\n",
       "    </tr>\n",
       "  </tbody>\n",
       "</table>\n",
       "</div>"
      ],
      "text/plain": [
       "Fuels Unabated Natural gas Natural gas with CCUS Total generation  \\\n",
       "2019                  6314                     0            26922   \n",
       "2020                6200.0                   0.0          26778.0   \n",
       "2030                6222.0                 170.0          37316.0   \n",
       "2040                 626.0                 694.0          56553.0   \n",
       "2050                 253.0                 669.0          71164.0   \n",
       "\n",
       "Fuels Unabated Natural gas share Natural gas with CCUS share  \n",
       "2019                    0.234529                         0.0  \n",
       "2020                    0.231533                         0.0  \n",
       "2030                    0.166738                    0.004556  \n",
       "2040                    0.011069                    0.012272  \n",
       "2050                    0.003555                    0.009401  "
      ]
     },
     "execution_count": 5,
     "metadata": {},
     "output_type": "execute_result"
    }
   ],
   "source": [
    "df[\"Unabated Natural gas share\"] = df[\"Unabated Natural gas\"]/df[\"Total generation\"]\n",
    "df[\"Natural gas with CCUS share\"] = df[\"Natural gas with CCUS\"]/df[\"Total generation\"]\n",
    "df"
   ]
  },
  {
   "cell_type": "code",
   "execution_count": 6,
   "id": "93dee57f",
   "metadata": {},
   "outputs": [
    {
     "ename": "PermissionError",
     "evalue": "[Errno 13] Permission denied: 'data/IEA Gas NZE.xlsx'",
     "output_type": "error",
     "traceback": [
      "\u001b[1;31m---------------------------------------------------------------------------\u001b[0m",
      "\u001b[1;31mPermissionError\u001b[0m                           Traceback (most recent call last)",
      "\u001b[1;32m<ipython-input-6-085df3d10d10>\u001b[0m in \u001b[0;36m<module>\u001b[1;34m\u001b[0m\n\u001b[1;32m----> 1\u001b[1;33m \u001b[0mdf\u001b[0m\u001b[1;33m.\u001b[0m\u001b[0mto_excel\u001b[0m\u001b[1;33m(\u001b[0m\u001b[1;34m\"data/IEA Gas NZE.xlsx\"\u001b[0m\u001b[1;33m)\u001b[0m\u001b[1;33m\u001b[0m\u001b[1;33m\u001b[0m\u001b[0m\n\u001b[0m",
      "\u001b[1;32m~\\anaconda3\\lib\\site-packages\\pandas\\core\\generic.py\u001b[0m in \u001b[0;36mto_excel\u001b[1;34m(self, excel_writer, sheet_name, na_rep, float_format, columns, header, index, index_label, startrow, startcol, engine, merge_cells, encoding, inf_rep, verbose, freeze_panes, storage_options)\u001b[0m\n\u001b[0;32m   2279\u001b[0m             \u001b[0minf_rep\u001b[0m\u001b[1;33m=\u001b[0m\u001b[0minf_rep\u001b[0m\u001b[1;33m,\u001b[0m\u001b[1;33m\u001b[0m\u001b[1;33m\u001b[0m\u001b[0m\n\u001b[0;32m   2280\u001b[0m         )\n\u001b[1;32m-> 2281\u001b[1;33m         formatter.write(\n\u001b[0m\u001b[0;32m   2282\u001b[0m             \u001b[0mexcel_writer\u001b[0m\u001b[1;33m,\u001b[0m\u001b[1;33m\u001b[0m\u001b[1;33m\u001b[0m\u001b[0m\n\u001b[0;32m   2283\u001b[0m             \u001b[0msheet_name\u001b[0m\u001b[1;33m=\u001b[0m\u001b[0msheet_name\u001b[0m\u001b[1;33m,\u001b[0m\u001b[1;33m\u001b[0m\u001b[1;33m\u001b[0m\u001b[0m\n",
      "\u001b[1;32m~\\anaconda3\\lib\\site-packages\\pandas\\io\\formats\\excel.py\u001b[0m in \u001b[0;36mwrite\u001b[1;34m(self, writer, sheet_name, startrow, startcol, freeze_panes, engine, storage_options)\u001b[0m\n\u001b[0;32m    832\u001b[0m             \u001b[1;31m# error: Cannot instantiate abstract class 'ExcelWriter' with abstract\u001b[0m\u001b[1;33m\u001b[0m\u001b[1;33m\u001b[0m\u001b[1;33m\u001b[0m\u001b[0m\n\u001b[0;32m    833\u001b[0m             \u001b[1;31m# attributes 'engine', 'save', 'supported_extensions' and 'write_cells'\u001b[0m\u001b[1;33m\u001b[0m\u001b[1;33m\u001b[0m\u001b[1;33m\u001b[0m\u001b[0m\n\u001b[1;32m--> 834\u001b[1;33m             writer = ExcelWriter(  # type: ignore[abstract]\n\u001b[0m\u001b[0;32m    835\u001b[0m                 \u001b[0mwriter\u001b[0m\u001b[1;33m,\u001b[0m \u001b[0mengine\u001b[0m\u001b[1;33m=\u001b[0m\u001b[0mengine\u001b[0m\u001b[1;33m,\u001b[0m \u001b[0mstorage_options\u001b[0m\u001b[1;33m=\u001b[0m\u001b[0mstorage_options\u001b[0m\u001b[1;33m\u001b[0m\u001b[1;33m\u001b[0m\u001b[0m\n\u001b[0;32m    836\u001b[0m             )\n",
      "\u001b[1;32m~\\anaconda3\\lib\\site-packages\\pandas\\io\\excel\\_xlsxwriter.py\u001b[0m in \u001b[0;36m__init__\u001b[1;34m(self, path, engine, date_format, datetime_format, mode, storage_options, if_sheet_exists, engine_kwargs, **kwargs)\u001b[0m\n\u001b[0;32m    189\u001b[0m             \u001b[1;32mraise\u001b[0m \u001b[0mValueError\u001b[0m\u001b[1;33m(\u001b[0m\u001b[1;34m\"Append mode is not supported with xlsxwriter!\"\u001b[0m\u001b[1;33m)\u001b[0m\u001b[1;33m\u001b[0m\u001b[1;33m\u001b[0m\u001b[0m\n\u001b[0;32m    190\u001b[0m \u001b[1;33m\u001b[0m\u001b[0m\n\u001b[1;32m--> 191\u001b[1;33m         super().__init__(\n\u001b[0m\u001b[0;32m    192\u001b[0m             \u001b[0mpath\u001b[0m\u001b[1;33m,\u001b[0m\u001b[1;33m\u001b[0m\u001b[1;33m\u001b[0m\u001b[0m\n\u001b[0;32m    193\u001b[0m             \u001b[0mengine\u001b[0m\u001b[1;33m=\u001b[0m\u001b[0mengine\u001b[0m\u001b[1;33m,\u001b[0m\u001b[1;33m\u001b[0m\u001b[1;33m\u001b[0m\u001b[0m\n",
      "\u001b[1;32m~\\anaconda3\\lib\\site-packages\\pandas\\io\\excel\\_base.py\u001b[0m in \u001b[0;36m__init__\u001b[1;34m(self, path, engine, date_format, datetime_format, mode, storage_options, if_sheet_exists, engine_kwargs, **kwargs)\u001b[0m\n\u001b[0;32m    923\u001b[0m         \u001b[0mself\u001b[0m\u001b[1;33m.\u001b[0m\u001b[0mhandles\u001b[0m \u001b[1;33m=\u001b[0m \u001b[0mIOHandles\u001b[0m\u001b[1;33m(\u001b[0m\u001b[0mcast\u001b[0m\u001b[1;33m(\u001b[0m\u001b[0mBuffer\u001b[0m\u001b[1;33m,\u001b[0m \u001b[0mpath\u001b[0m\u001b[1;33m)\u001b[0m\u001b[1;33m,\u001b[0m \u001b[0mcompression\u001b[0m\u001b[1;33m=\u001b[0m\u001b[1;33m{\u001b[0m\u001b[1;34m\"copression\"\u001b[0m\u001b[1;33m:\u001b[0m \u001b[1;32mNone\u001b[0m\u001b[1;33m}\u001b[0m\u001b[1;33m)\u001b[0m\u001b[1;33m\u001b[0m\u001b[1;33m\u001b[0m\u001b[0m\n\u001b[0;32m    924\u001b[0m         \u001b[1;32mif\u001b[0m \u001b[1;32mnot\u001b[0m \u001b[0misinstance\u001b[0m\u001b[1;33m(\u001b[0m\u001b[0mpath\u001b[0m\u001b[1;33m,\u001b[0m \u001b[0mExcelWriter\u001b[0m\u001b[1;33m)\u001b[0m\u001b[1;33m:\u001b[0m\u001b[1;33m\u001b[0m\u001b[1;33m\u001b[0m\u001b[0m\n\u001b[1;32m--> 925\u001b[1;33m             self.handles = get_handle(\n\u001b[0m\u001b[0;32m    926\u001b[0m                 \u001b[0mpath\u001b[0m\u001b[1;33m,\u001b[0m \u001b[0mmode\u001b[0m\u001b[1;33m,\u001b[0m \u001b[0mstorage_options\u001b[0m\u001b[1;33m=\u001b[0m\u001b[0mstorage_options\u001b[0m\u001b[1;33m,\u001b[0m \u001b[0mis_text\u001b[0m\u001b[1;33m=\u001b[0m\u001b[1;32mFalse\u001b[0m\u001b[1;33m\u001b[0m\u001b[1;33m\u001b[0m\u001b[0m\n\u001b[0;32m    927\u001b[0m             )\n",
      "\u001b[1;32m~\\anaconda3\\lib\\site-packages\\pandas\\io\\common.py\u001b[0m in \u001b[0;36mget_handle\u001b[1;34m(path_or_buf, mode, encoding, compression, memory_map, is_text, errors, storage_options)\u001b[0m\n\u001b[0;32m    708\u001b[0m         \u001b[1;32melse\u001b[0m\u001b[1;33m:\u001b[0m\u001b[1;33m\u001b[0m\u001b[1;33m\u001b[0m\u001b[0m\n\u001b[0;32m    709\u001b[0m             \u001b[1;31m# Binary mode\u001b[0m\u001b[1;33m\u001b[0m\u001b[1;33m\u001b[0m\u001b[1;33m\u001b[0m\u001b[0m\n\u001b[1;32m--> 710\u001b[1;33m             \u001b[0mhandle\u001b[0m \u001b[1;33m=\u001b[0m \u001b[0mopen\u001b[0m\u001b[1;33m(\u001b[0m\u001b[0mhandle\u001b[0m\u001b[1;33m,\u001b[0m \u001b[0mioargs\u001b[0m\u001b[1;33m.\u001b[0m\u001b[0mmode\u001b[0m\u001b[1;33m)\u001b[0m\u001b[1;33m\u001b[0m\u001b[1;33m\u001b[0m\u001b[0m\n\u001b[0m\u001b[0;32m    711\u001b[0m         \u001b[0mhandles\u001b[0m\u001b[1;33m.\u001b[0m\u001b[0mappend\u001b[0m\u001b[1;33m(\u001b[0m\u001b[0mhandle\u001b[0m\u001b[1;33m)\u001b[0m\u001b[1;33m\u001b[0m\u001b[1;33m\u001b[0m\u001b[0m\n\u001b[0;32m    712\u001b[0m \u001b[1;33m\u001b[0m\u001b[0m\n",
      "\u001b[1;31mPermissionError\u001b[0m: [Errno 13] Permission denied: 'data/IEA Gas NZE.xlsx'"
     ]
    }
   ],
   "source": [
    "df.to_excel(\"data/IEA Gas NZE.xlsx\")"
   ]
  },
  {
   "cell_type": "code",
   "execution_count": null,
   "id": "ad9b5868",
   "metadata": {},
   "outputs": [],
   "source": [
    "df.iloc[:,:2].plot(kind = \"area\", stacked = True)\n",
    "plt.ylabel(\"TWh\")\n",
    "plt.title(\"Global Electricitiy Generation from Gas\\n IEA Net Zero Scenario 2021\")\n",
    "plt.savefig(\"figures/Global electricity generation from gas in IEA Net Zero 2021 scenario\", dpi = 300)\n",
    "plt.show()"
   ]
  },
  {
   "cell_type": "code",
   "execution_count": null,
   "id": "c8151a69",
   "metadata": {},
   "outputs": [],
   "source": [
    "df.iloc[:,3:].plot(kind = \"area\", stacked = True)\n",
    "plt.ylabel(\"Share (0-1\")\n",
    "plt.title(\"Gas share in global electricitiy generation\\n IEA Net Zero Scenario 2021\")\n",
    "plt.savefig(\"figures/Gas share in global electricity generation IEA Net Zero 2021 scenario\", dpi = 300)\n",
    "plt.show()"
   ]
  },
  {
   "cell_type": "markdown",
   "id": "678834d9",
   "metadata": {},
   "source": [
    "## Shell "
   ]
  },
  {
   "cell_type": "markdown",
   "id": "ee86c9ae",
   "metadata": {},
   "source": [
    "https://www.shell.com/energy-and-innovation/the-energy-future/scenarios/the-energy-transformation-scenarios.html#iframe=L3dlYmFwcHMvU2NlbmFyaW9zX2xvbmdfaG9yaXpvbnMv"
   ]
  },
  {
   "cell_type": "code",
   "execution_count": null,
   "id": "8e8c1e65",
   "metadata": {},
   "outputs": [],
   "source": [
    "file = \"data\\shell-energy-transformation-scenarios-summary-data.xlsx\"\n",
    "shell = pd.read_excel(file, sheet_name = \"Sheet1\", skiprows = 23)\n",
    "shell.columns=shell.iloc[0]\n",
    "\n",
    "shell.drop(shell.index[0], axis=0, inplace=True)\n",
    "shell.set_index(\"Scenarios\",inplace=True)\n",
    "\n",
    "shell.columns = shell.columns.astype(int)\n",
    "\n",
    "shell= shell.T\n",
    "shell"
   ]
  },
  {
   "cell_type": "code",
   "execution_count": null,
   "id": "563d29c2",
   "metadata": {},
   "outputs": [],
   "source": [
    "shell.plot()\n",
    "plt.title(\"Gas share in global electricity generation \\n Shell Energy Transformation Scenarios 2021\")\n",
    "plt.ylabel(\"Share (0-1\")\n",
    "plt.xlabel(\"Years\")\n",
    "plt.savefig(\"figures/Gas share in global electricity generation Shell\", dpi = 300)\n",
    "plt.show()"
   ]
  },
  {
   "cell_type": "code",
   "execution_count": null,
   "id": "59dbd3e5",
   "metadata": {},
   "outputs": [],
   "source": []
  },
  {
   "cell_type": "code",
   "execution_count": null,
   "id": "b99f3ce3",
   "metadata": {},
   "outputs": [],
   "source": []
  }
 ],
 "metadata": {
  "kernelspec": {
   "display_name": "Python 3",
   "language": "python",
   "name": "python3"
  },
  "language_info": {
   "codemirror_mode": {
    "name": "ipython",
    "version": 3
   },
   "file_extension": ".py",
   "mimetype": "text/x-python",
   "name": "python",
   "nbconvert_exporter": "python",
   "pygments_lexer": "ipython3",
   "version": "3.8.8"
  }
 },
 "nbformat": 4,
 "nbformat_minor": 5
}
